{
 "cells": [
  {
   "cell_type": "code",
   "execution_count": 18,
   "metadata": {},
   "outputs": [
    {
     "name": "stdout",
     "output_type": "stream",
     "text": [
      "priyanshusah 20041108\n",
      "p 7\n",
      "r 9\n",
      "i 9\n",
      "y 7\n",
      "a 1\n",
      "n 5\n",
      "s 1\n",
      "h 8\n",
      "u 3\n",
      "s 1\n",
      "a 1\n",
      "h 8\n",
      "lifepath:4\n"
     ]
    }
   ],
   "source": [
    "from string import ascii_lowercase\n",
    "name=\"Priyanshu Sah\"# input(\"Enter name:\")\n",
    "name_corrected=''\n",
    "dob=\"20041108\"#input(\"Enter DOB in YYYYMMDD\")\n",
    "\n",
    "dob_corrected=''\n",
    "\n",
    "for i in dob:\n",
    "    if i.isdigit:\n",
    "        dob_corrected+=i\n",
    "        \n",
    "for i in name:\n",
    "    if i.isalnum():\n",
    "        name_corrected+=i.lower()\n",
    "\n",
    "print(name_corrected,dob_corrected)\n",
    "\n",
    "freq={}\n",
    "\n",
    "#65-91 for a-z or loop throught \"ascii_lowercase\" variable we imported \n",
    "#freq.update({chr(i+97):i+1})   ###\n",
    "\n",
    "\n",
    "# Loop through each letter in the alphabet\n",
    "for i in range(26):  # 0-25 for a-z\n",
    "    key = (i % 9) + 1  # Remainder of the position + 1 to match the pattern (1-based)\n",
    "    value = ascii_lowercase[i]  # Current letter in the alphabet\n",
    "\n",
    "    # Append the letter to the corresponding list in the dictionary\n",
    "    freq[value]=key\n",
    "\n",
    "\n",
    "\n",
    "name_number=0\n",
    "for i in name_corrected:\n",
    "\n",
    "    name_number+=freq[i]\n",
    "    if name_number>9:\n",
    "        name_number=str(name_number)\n",
    "        for s in name_number:\n",
    "            name_number+=int(s)\n",
    "                \n",
    "\n",
    "\n",
    "\n",
    "birthdate_number=0\n",
    "for i in dob:\n",
    "    i=int(i)\n",
    "    birthdate_number+=i\n",
    "    if name_number>9 :\n",
    "        birthdate_number=str(birthdate_number)\n",
    "        while birthdate_number >9:\n",
    "            for s in birthdate_number:\n",
    "                birthdate_number+=int(s)\n",
    "\n",
    "life=name_number+birthdate_number\n",
    "life=str(life)\n",
    "life=int(life[0])+int(life[1])\n",
    "mod_life=life%9\n",
    "if mod_life==9:\n",
    "    mod_life=9\n",
    "\n",
    "\n",
    "print('lifepath:{}'.format(mod_life))\n",
    "\n",
    "\n",
    "\n",
    "\n",
    "        "
   ]
  },
  {
   "cell_type": "code",
   "execution_count": 12,
   "metadata": {},
   "outputs": [],
   "source": [
    "st=' '\n",
    "if st.isalnum():\n",
    "    print(True)"
   ]
  }
 ],
 "metadata": {
  "kernelspec": {
   "display_name": "base",
   "language": "python",
   "name": "python3"
  },
  "language_info": {
   "codemirror_mode": {
    "name": "ipython",
    "version": 3
   },
   "file_extension": ".py",
   "mimetype": "text/x-python",
   "name": "python",
   "nbconvert_exporter": "python",
   "pygments_lexer": "ipython3",
   "version": "3.11.3"
  }
 },
 "nbformat": 4,
 "nbformat_minor": 2
}
