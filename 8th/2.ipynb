{
 "cells": [
  {
   "cell_type": "code",
   "execution_count": null,
   "metadata": {},
   "outputs": [],
   "source": [
    "def make_amount(rupees_to_make,no_of_five,no_of_one):\n",
    "    five_needed=0\n",
    "    one_needed=0\n",
    "\n",
    "    #Start writing your code here\n",
    "    #Populate the variables: five_needed and one_needed\n",
    "    \n",
    "\n",
    "\n",
    "    # Use the below given print statements to display the output\n",
    "    # Also, do not modify them for verification to work\n",
    "\n",
    "    #print(\"No. of Five needed :\", five_needed)\n",
    "    #print(\"No. of One needed  :\", one_needed)\n",
    "    #print(-1)\n",
    "\n",
    "\n",
    "#Provide different values for rupees_to_make,no_of_five,no_of_one and test your program\n",
    "make_amount(28,8,5)"
   ]
  },
  {
   "cell_type": "code",
   "execution_count": null,
   "metadata": {},
   "outputs": [],
   "source": [
    "#lex_auth_0127136373866577921209\n",
    "\n",
    "def integer_to_english(number):\n",
    "    #start writing your code here\n",
    "    if number in range(1,1001):\n",
    "        num={1:'one',2:'two',3:'three',4:'four',5:'five,6:'six',7:'seven',8:'eight,9:'nine',10:'ten'}\n",
    "        if number in \n",
    "        \n",
    "        \n",
    "        \n",
    "    \n",
    "    \n",
    "    return -1\n",
    "        \n",
    "\n",
    "\n",
    "number=789\n",
    "print(integer_to_english(number))"
   ]
  },
  {
   "cell_type": "code",
   "execution_count": null,
   "metadata": {},
   "outputs": [],
   "source": [
    "#lex_auth_012693774187716608134\n",
    "\n",
    "def translate(bilingual_dict,english_words_list):\n",
    "    #Write your logic here\n",
    "    swedish=[]\n",
    "    n=len(english_words_list)\n",
    "    for i in range(n):\n",
    "        if english_words_list[i] in bilingual_dict:\n",
    "            swedish.append(bilingual_dict[english_words_list[i]])\n",
    "        else:\n",
    "            swedish.append(english_words_list[i])\n",
    "\n",
    "    return swedish\n",
    "\n",
    "\n",
    "bilingual_dict= {\"merry\":\"god\", \"christmas\":\"jul\", \"and\":\"och\", \"happy\":\"gott\", \"new\":\"nytt\", \"year\":\"ar\"}\n",
    "english_words_list=[\"merry\",\"christmas\"]\n",
    "print(\"The bilingual dict is:\",bilingual_dict)\n",
    "print(\"The english words are:\",english_words_list)\n",
    "\n",
    "swedish_words_list=translate(bilingual_dict, english_words_list)\n",
    "print(\"The equivalent swedish words are:\",swedish_words_list)"
   ]
  }
 ],
 "metadata": {
  "language_info": {
   "name": "python"
  }
 },
 "nbformat": 4,
 "nbformat_minor": 2
}
