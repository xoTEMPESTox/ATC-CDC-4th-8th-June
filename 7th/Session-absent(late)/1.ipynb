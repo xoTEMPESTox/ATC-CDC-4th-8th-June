{
 "cells": [
  {
   "cell_type": "code",
   "execution_count": 1,
   "metadata": {},
   "outputs": [
    {
     "name": "stdout",
     "output_type": "stream",
     "text": [
      "Python.123\n"
     ]
    }
   ],
   "source": [
    "result=\"\"\n",
    "def swap_case(s):\n",
    "    for i in s:\n",
    "        if i.isupper():\n",
    "            result+=i.lower()\n",
    "        elif i.islower():\n",
    "            result+=i.upper()\n",
    "        else:\n",
    "            result+=i\n",
    "    return result\n",
    "\n",
    "if __name__ == '__main__':\n",
    "    s = input()\n",
    "    result = swap_case(s)\n",
    "    print(result)"
   ]
  },
  {
   "cell_type": "code",
   "execution_count": 2,
   "metadata": {},
   "outputs": [
    {
     "ename": "SyntaxError",
     "evalue": "invalid syntax (1384508240.py, line 19)",
     "output_type": "error",
     "traceback": [
      "\u001b[1;36m  Cell \u001b[1;32mIn[2], line 19\u001b[1;36m\u001b[0m\n\u001b[1;33m    for i in range(1:n) :\u001b[0m\n\u001b[1;37m                    ^\u001b[0m\n\u001b[1;31mSyntaxError\u001b[0m\u001b[1;31m:\u001b[0m invalid syntax\n"
     ]
    }
   ],
   "source": [
    "#!/bin/python3\n",
    "\n",
    "import math\n",
    "import os\n",
    "import random\n",
    "import re\n",
    "import sys\n",
    "\n",
    "\n",
    "\n",
    "#\n",
    "# Complete the 'fizzBuzz' function below.\n",
    "#\n",
    "# The function accepts INTEGER n as parameter.\n",
    "#\n",
    "\n",
    "def fizzBuzz(n):\n",
    "    # Write your code here\n",
    "    for i in range(1:n) :\n",
    "        if i%3==0 and i%5==0:\n",
    "            print(\"FizzBuzz\")\n",
    "        elif i%3==0 and i%5!=0:\n",
    "            print(\"Fizz\")    \n",
    "        elif i%3!=0 and i%5==0:\n",
    "            print(\"Buzz\")\n",
    "        else:\n",
    "            print(i)     \n",
    "    return                       \n",
    "\n",
    "if __name__ == '__main__':\n",
    "    n = int(input().strip())\n",
    "\n",
    "    fizzBuzz(n)\n",
    "    def add(n1, n2):\n",
    "        return n1+n2\n"
   ]
  },
  {
   "cell_type": "code",
   "execution_count": 7,
   "metadata": {},
   "outputs": [
    {
     "name": "stdout",
     "output_type": "stream",
     "text": [
      "True\n"
     ]
    }
   ],
   "source": [
    "lst=[1,2,9,5,8]\n",
    "if 9 in list[:4]:\n",
    "    print(Tru)"
   ]
  },
  {
   "cell_type": "code",
   "execution_count": 2,
   "metadata": {},
   "outputs": [
    {
     "name": "stdout",
     "output_type": "stream",
     "text": [
      "1 one\n",
      "2 two\n",
      "3 three\n",
      "4 four\n"
     ]
    }
   ],
   "source": [
    "t={1:'one',2:'two',3:'three',4:'four'}\n",
    "\n",
    "for i in t:\n",
    "    print(i,t[i])  #i-key , t[i] -> value , "
   ]
  },
  {
   "cell_type": "code",
   "execution_count": 6,
   "metadata": {},
   "outputs": [
    {
     "name": "stdout",
     "output_type": "stream",
     "text": [
      "[[2, 3, 2, 1], [7, 6, 7, 8], [9, 10, 11, 12], [13, 14, 15, 16]]\n"
     ]
    },
    {
     "ename": "TypeError",
     "evalue": "unsupported operand type(s) for +: 'int' and 'list'",
     "output_type": "error",
     "traceback": [
      "\u001b[1;31m---------------------------------------------------------------------------\u001b[0m",
      "\u001b[1;31mTypeError\u001b[0m                                 Traceback (most recent call last)",
      "Cell \u001b[1;32mIn[6], line 34\u001b[0m\n\u001b[0;32m     26\u001b[0m \u001b[38;5;66;03m# Example usage\u001b[39;00m\n\u001b[0;32m     27\u001b[0m matrix \u001b[38;5;241m=\u001b[39m [\n\u001b[0;32m     28\u001b[0m     [\u001b[38;5;241m1\u001b[39m, \u001b[38;5;241m2\u001b[39m, \u001b[38;5;241m3\u001b[39m, \u001b[38;5;241m4\u001b[39m],\n\u001b[0;32m     29\u001b[0m     [\u001b[38;5;241m5\u001b[39m, \u001b[38;5;241m6\u001b[39m, \u001b[38;5;241m7\u001b[39m, \u001b[38;5;241m8\u001b[39m],\n\u001b[0;32m     30\u001b[0m     [\u001b[38;5;241m9\u001b[39m, \u001b[38;5;241m10\u001b[39m, \u001b[38;5;241m11\u001b[39m, \u001b[38;5;241m12\u001b[39m],\n\u001b[0;32m     31\u001b[0m     [\u001b[38;5;241m13\u001b[39m, \u001b[38;5;241m14\u001b[39m, \u001b[38;5;241m15\u001b[39m, \u001b[38;5;241m16\u001b[39m]\n\u001b[0;32m     32\u001b[0m ]\n\u001b[1;32m---> 34\u001b[0m max_sum \u001b[38;5;241m=\u001b[39m maximize_sum(matrix)\n\u001b[0;32m     35\u001b[0m \u001b[38;5;28mprint\u001b[39m(\u001b[38;5;124m\"\u001b[39m\u001b[38;5;124mMaximum sum:\u001b[39m\u001b[38;5;124m\"\u001b[39m, max_sum)\n",
      "Cell \u001b[1;32mIn[6], line 22\u001b[0m, in \u001b[0;36mmaximize_sum\u001b[1;34m(matrix)\u001b[0m\n\u001b[0;32m     20\u001b[0m     \u001b[38;5;66;03m# Calculate the sum of the upper-left quadrant\u001b[39;00m\n\u001b[0;32m     21\u001b[0m     \u001b[38;5;28mprint\u001b[39m(matrix)\n\u001b[1;32m---> 22\u001b[0m     max_sum \u001b[38;5;241m+\u001b[39m\u001b[38;5;241m=\u001b[39m \u001b[38;5;28msum\u001b[39m(matrix[j][:n] \u001b[38;5;28;01mfor\u001b[39;00m j \u001b[38;5;129;01min\u001b[39;00m \u001b[38;5;28mrange\u001b[39m(n))\n\u001b[0;32m     24\u001b[0m \u001b[38;5;28;01mreturn\u001b[39;00m max_sum\n",
      "\u001b[1;31mTypeError\u001b[0m: unsupported operand type(s) for +: 'int' and 'list'"
     ]
    }
   ],
   "source": [
    "def maximize_sum(matrix):\n",
    "    n = len(matrix)//2\n",
    "    max_sum = [0] * n\n",
    "\n",
    "    # Iterate over each row\n",
    "    for i in range(n):\n",
    "        row_sum = sum(matrix[i][:n])\n",
    "        col_sum = sum(matrix[j][i] for j in range(n))\n",
    "\n",
    "        # Reverse the row if the sum of the first n elements is less than the sum of the last n elements\n",
    "        if row_sum < sum(matrix[i][n:2*n]):\n",
    "            matrix[i] = matrix[i][::-1]\n",
    "\n",
    "        # Reverse the column if the sum of the first n elements is less than the sum of the last n elements\n",
    "        if col_sum < sum(matrix[j][i] for j in range(n, 2*n)):\n",
    "            for j in range(n):\n",
    "                matrix[j][i] = matrix[j][n+i]\n",
    "                matrix[j][n+i] = matrix[j][i]\n",
    "\n",
    "        # Calculate the sum of the upper-left quadrant\n",
    "        print(matrix)\n",
    "        max_sum += sum(matrix[j][:n] for j in range(n))\n",
    "\n",
    "    return max_sum\n",
    "\n",
    "# Example usage\n",
    "matrix = [\n",
    "    [1, 2, 3, 4],\n",
    "    [5, 6, 7, 8],\n",
    "    [9, 10, 11, 12],\n",
    "    [13, 14, 15, 16]\n",
    "]\n",
    "\n",
    "max_sum = maximize_sum(matrix)\n",
    "print(\"Maximum sum:\", max_sum)\n"
   ]
  },
  {
   "cell_type": "code",
   "execution_count": 1,
   "metadata": {},
   "outputs": [
    {
     "name": "stdout",
     "output_type": "stream",
     "text": [
      "c\n",
      "{1: 'a', 2: 'b', 4: 'd', 5: 'e', 6: 'abc', 7: 'g'}\n"
     ]
    }
   ],
   "source": [
    "student={1:\"a\", 2:\"b\", 3:\"c\", 4:\"d\", 5:\"e\"}\n",
    "search=3\n",
    "inp=\"\"\n",
    "\n",
    "if search in student:\n",
    "    print(student[search])\n",
    "\n",
    "a=student.pop(search) # student[search]  will just give dictionary value of search key\n",
    "inp=input(\"enter thing to add\")\n",
    "student.update({6:inp})\n",
    "student[7]='g'\n",
    "print(student)    "
   ]
  },
  {
   "cell_type": "code",
   "execution_count": 3,
   "metadata": {},
   "outputs": [
    {
     "name": "stdout",
     "output_type": "stream",
     "text": [
      "['hello', 'doly', 'ingly']\n"
     ]
    }
   ],
   "source": [
    "def ly(str2):\n",
    "\n",
    "    str=str2.split() \n",
    "    for i,j in enumerate(str):  #returns index,value of list\n",
    "        if j.endswith(\"ing\"):\n",
    "            str[i]=j.replace(\"ing\",\"ly\")\n",
    "    print (str)\n",
    "\n",
    "str2=input(\"Enter\")\n",
    "ly(str2)    "
   ]
  },
  {
   "cell_type": "code",
   "execution_count": 22,
   "metadata": {},
   "outputs": [
    {
     "ename": "IndentationError",
     "evalue": "expected an indented block after 'for' statement on line 7 (249608165.py, line 8)",
     "output_type": "error",
     "traceback": [
      "\u001b[1;36m  Cell \u001b[1;32mIn[22], line 8\u001b[1;36m\u001b[0m\n\u001b[1;33m    if rev_row_sum > row_sum:\u001b[0m\n\u001b[1;37m    ^\u001b[0m\n\u001b[1;31mIndentationError\u001b[0m\u001b[1;31m:\u001b[0m expected an indented block after 'for' statement on line 7\n"
     ]
    }
   ],
   "source": [
    "def maximize_upper_left_quadrant(matrix, n):\n",
    "    row_sum=float('-inf')\n",
    "    col_sum,rev_col_sum=0\n",
    "    for x in range(2*n):\n",
    "        row_sum = sum(matrix[x][:n])\n",
    "        rev_row_sum = sum(matrix[x][n:])\n",
    "        for y in range(n):\n",
    "            col_sum+=matrix[x][y]\n",
    "            rev_col_sum+=matrix[x][-y]            \n",
    "        if rev_row_sum > row_sum:\n",
    "            matrix[x] = matrix[x][::-1]\n",
    "    if col_row_sum > col_sum:###\n",
    "        matrix[x] = matrix[x][::-1]            \n",
    "    return matrix\n",
    "\n",
    "# Example usage:\n",
    "matrix = [\n",
    "    [112, 42, 83, 119],\n",
    "    [56, 125, 56, 49],\n",
    "    [15, 78, 101, 43], \n",
    "    [62, 98, 114, 108]\n",
    "]\n",
    "n = 2\n",
    "\n",
    "result_matrix = maximize_upper_left_quadrant(matrix, n)\n",
    "for row in result_matrix:\n",
    "    print(row)\n",
    "\n",
    "\n",
    "\n",
    "\n"
   ]
  },
  {
   "cell_type": "code",
   "execution_count": 1,
   "metadata": {},
   "outputs": [
    {
     "ename": "IndentationError",
     "evalue": "expected an indented block after function definition on line 14 (4273094649.py, line 17)",
     "output_type": "error",
     "traceback": [
      "\u001b[1;36m  Cell \u001b[1;32mIn[1], line 17\u001b[1;36m\u001b[0m\n\u001b[1;33m    def get_total_fare(train_no,passenger_dict):\u001b[0m\n\u001b[1;37m    ^\u001b[0m\n\u001b[1;31mIndentationError\u001b[0m\u001b[1;31m:\u001b[0m expected an indented block after function definition on line 14\n"
     ]
    }
   ],
   "source": [
    "#lex_auth_0127136112798105601178    \n",
    "\n",
    "train_list=[\n",
    "{\"train_no\":16453,\"name\":\"Prasanti Express\",\"from\":\"SBC\",\"to\":\"BBS\",\"days_of_run\":['Mo','We','Th'],\"sleeper_fare\":600,\"ac_fare\": 987},\n",
    "{\"train_no\":25627,\"name\":\"Karnataka Express\",\"from\":\"SBC\",\"to\":\"DEC\",\"days_of_run\":['Su','Tu'],\"sleeper_fare\":1600,\"ac_fare\": 2500},\n",
    "{\"train_no\":22642,\"name\":\"Trivandrum SF Express\",\"from\":\"VSKP\",\"to\":\"TVM\",\"days_of_run\":['Mo','Tu','We','Th','Fr','Sa'],\"sleeper_fare\":800,\"ac_fare\": 1256},\n",
    "{\"train_no\":22905,\"name\":\"Okha Howrah Express\",\"from\":\"ST\",\"to\":\"KOAA\",\"days_of_run\":['We','Sa'],\"sleeper_fare\":987,\"ac_fare\": 2879}]\n",
    "\n",
    "def get_train_name (train_no):\n",
    "    #start writing your code here\n",
    "    for i in train_list:\n",
    "        print(i)\n",
    "\n",
    "#def get_trains_for_day(day_of_run):\n",
    "    #start writing your code here\n",
    "\n",
    "#def get_total_fare(train_no,passenger_dict):\n",
    "    #start writing your code here\n",
    "    \n",
    "print(get_train_name(25627))\n",
    "#print(get_trains_for_day(\"Mo\"))\n",
    "#print(get_total_fare(22642,{\"sleeper\":5, \"ac\":1}))"
   ]
  }
 ],
 "metadata": {
  "kernelspec": {
   "display_name": "base",
   "language": "python",
   "name": "python3"
  },
  "language_info": {
   "codemirror_mode": {
    "name": "ipython",
    "version": 3
   },
   "file_extension": ".py",
   "mimetype": "text/x-python",
   "name": "python",
   "nbconvert_exporter": "python",
   "pygments_lexer": "ipython3",
   "version": "3.11.3"
  }
 },
 "nbformat": 4,
 "nbformat_minor": 2
}
