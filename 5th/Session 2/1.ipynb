{
 "cells": [
  {
   "cell_type": "code",
   "execution_count": null,
   "metadata": {},
   "outputs": [],
   "source": [
    "import random \n",
    "random.randint(1,6)\n"
   ]
  },
  {
   "cell_type": "code",
   "execution_count": null,
   "metadata": {},
   "outputs": [],
   "source": [
    "split():\n",
    "\n",
    "This method splits the string into a list of substrings based on whitespace (by default). For example, \"1 2 3\".split() would return the list [\"1\", \"2\", \"3\"].\n",
    "Example:\n",
    "python\n",
    "Copy code\n",
    "s = \"1 2 3\"\n",
    "split_s = s.split()  # Result: [\"1\", \"2\", \"3\"]"
   ]
  },
  {
   "cell_type": "code",
   "execution_count": null,
   "metadata": {},
   "outputs": [],
   "source": [
    "map(int, ...):\n",
    "\n",
    "The map() function applies a given function to each item in an iterable (e.g., list). In this case, int is the function, and the iterable is the list produced by split(). So, map(int, [\"1\", \"2\", \"3\"]) converts each string in the list to an integer, resulting in the map object equivalent to [1, 2, 3].\n",
    "Example:\n",
    "python\n",
    "Copy code\n",
    "lst = [\"1\", \"2\", \"3\"]\n",
    "int_lst = map(int, lst)  # Result: map object which contains [1, 2, 3]\n"
   ]
  },
  {
   "cell_type": "code",
   "execution_count": 13,
   "metadata": {},
   "outputs": [
    {
     "name": "stdout",
     "output_type": "stream",
     "text": [
      "10 14\n"
     ]
    }
   ],
   "source": [
    "\n",
    "arr=[1,2,3,4,5]\n",
    "\n",
    "min,max = float('inf'),float('-inf')\n",
    "n=len(arr)\n",
    "for x in range(0,n):\n",
    "    sum = 0 \n",
    "    for y in range(0,n):\n",
    "       if x!=y:\n",
    "          sum=arr[y]+sum\n",
    "    if sum>max:\n",
    "         max=sum \n",
    "    if sum<min:\n",
    "        min=sum\n",
    "\n",
    "print (f\"{min} {max}\")               \n",
    "            \n",
    "        \n",
    "\n",
    "        \n",
    "\n",
    "\n"
   ]
  },
  {
   "cell_type": "code",
   "execution_count": 14,
   "metadata": {},
   "outputs": [],
   "source": [
    "arr = [1,2,3,4,5,7,-2,-4]\n",
    "s_arr=sorted (arr)"
   ]
  },
  {
   "cell_type": "code",
   "execution_count": 18,
   "metadata": {},
   "outputs": [
    {
     "data": {
      "text/plain": [
       "3"
      ]
     },
     "execution_count": 18,
     "metadata": {},
     "output_type": "execute_result"
    }
   ],
   "source": [
    "math.floor(3.5)"
   ]
  },
  {
   "cell_type": "markdown",
   "metadata": {},
   "source": [
    "list.count(list_value)  ## this will return the number of occurrences of list_value in list"
   ]
  }
 ],
 "metadata": {
  "kernelspec": {
   "display_name": "base",
   "language": "python",
   "name": "python3"
  },
  "language_info": {
   "codemirror_mode": {
    "name": "ipython",
    "version": 3
   },
   "file_extension": ".py",
   "mimetype": "text/x-python",
   "name": "python",
   "nbconvert_exporter": "python",
   "pygments_lexer": "ipython3",
   "version": "3.11.3"
  }
 },
 "nbformat": 4,
 "nbformat_minor": 2
}
