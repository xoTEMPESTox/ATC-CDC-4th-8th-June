{
 "cells": [
  {
   "cell_type": "code",
   "execution_count": 1,
   "metadata": {},
   "outputs": [
    {
     "name": "stdout",
     "output_type": "stream",
     "text": [
      "Area: 320.0\n"
     ]
    }
   ],
   "source": [
    "width=float(input(\"width:\"))\n",
    "length=float(input(\"length:\"))\n",
    "print(\"Area:\",width*length)"
   ]
  },
  {
   "cell_type": "code",
   "execution_count": 4,
   "metadata": {},
   "outputs": [
    {
     "name": "stdout",
     "output_type": "stream",
     "text": [
      "Surface Area: 12.0\n",
      "Volume:6.0 Volume6.0\n"
     ]
    }
   ],
   "source": [
    "width=float(input(\"width:\"))\n",
    "length=float(input(\"length:\"))\n",
    "hieght=float(input(\"hieght:\"))\n",
    "vol=width*length*hieght\n",
    "print(\"Surface Area:\",2*(width+hieght+length))\n",
    "vol_str=f\"Volume:{vol}\"\n",
    "vol_str2=\"Volume{}\".format(vol)\n",
    "print(vol_str,vol_str2)"
   ]
  },
  {
   "cell_type": "code",
   "execution_count": 6,
   "metadata": {},
   "outputs": [
    {
     "name": "stdout",
     "output_type": "stream",
     "text": [
      "98.0 17.64 115.64\n",
      "Final: 115.64\n"
     ]
    }
   ],
   "source": [
    "MSRP=float(input(\"MSRP:\"))\n",
    "discount=2.0\n",
    "disc_MSRP=MSRP-(MSRP/100*discount)\n",
    "GST= disc_MSRP/100*18\n",
    "final = disc_MSRP+GST\n",
    "#print(disc_MSRP,GST,final)\n",
    "print(\"Final:\",final)"
   ]
  },
  {
   "cell_type": "code",
   "execution_count": null,
   "metadata": {},
   "outputs": [],
   "source": [
    "name=input(\"Name:\")\n",
    "number=input(\"Number:\")\n",
    "insult=['f','u','c','k','#']\n",
    "for i in insult:\n",
    "    print(f\"{name} is {i}\")"
   ]
  },
  {
   "cell_type": "code",
   "execution_count": 8,
   "metadata": {},
   "outputs": [
    {
     "name": "stdout",
     "output_type": "stream",
     "text": [
      "240\n"
     ]
    }
   ],
   "source": [
    "def calculate_bill_amount(food_type,quantity_ordered,distance_in_kms):\n",
    "    bill_amount=0\n",
    "    #write your logic \n",
    "    \n",
    "    if quantity_ordered != 0:\n",
    "        if food_type == \"V\":\n",
    "            food_cost=quantity_ordered*150\n",
    "        elif food_type == \"N\":\n",
    "            food_cost=quantity_ordered*120\n",
    "\n",
    "        if distance_in_kms >=0 & distance_in_kms<=3 :\n",
    "            delivery_cost = 0 \n",
    "        elif distance_in_kms  in range(3,7):\n",
    "            delivery_cost=(distance_in_kms-3)*3 \n",
    "        elif distance_in_kms >6:\n",
    "            delivery_cost=((distance_in_kms-6)*6) + 9    \n",
    "        else:   \n",
    "            delivery_cost=-1\n",
    "\n",
    "\n",
    "        if delivery_cost !=-1 :\n",
    "            bill_amount=food_cost+delivery_cost    \n",
    "           \n",
    "    else:\n",
    "        bill_amount=-1\n",
    "\n",
    "\n",
    "\n",
    "    return bill_amount\n",
    "\n",
    "#Provide different values for food_type,quantity_ordered,distance_in_kms and test your program\n",
    "bill_amount=calculate_bill_amount(\"N\",2,7)\n",
    "print(bill_amount)"
   ]
  },
  {
   "cell_type": "code",
   "execution_count": 38,
   "metadata": {},
   "outputs": [
    {
     "name": "stdout",
     "output_type": "stream",
     "text": [
      "Obtained Weapon is AK-47. Good luck!\n",
      "You have been defeated by the zombie with Knife\n"
     ]
    }
   ],
   "source": [
    "import random\n",
    "weapons=[\"AWP\", \"AK-47\",\"Deagle\",\"Zeus\",\"Knife\",\"M4A4\"]\n",
    "while True:\n",
    "  weapon=input(\"Weapon from List:\")\n",
    "  if weapon in weapons:\n",
    "    break\n",
    "    \n",
    "zombie_weakness=random.choice(weapons)  # passed a list that outputes randomized entry for Default Choice \n",
    "print(f\"Obtained Weapon is {weapon}. Good luck!\")\n",
    "\n",
    "\n",
    "if weapon == zombie_weakness:\n",
    "  print(f\"Congratulations! You have defeated the zombie with {weapon}\")\n",
    "elif weapon != zombie_weakness:\n",
    " print(f\"You have been defeated by the zombie with {zombie_weakness}\")  \n"
   ]
  },
  {
   "cell_type": "code",
   "execution_count": null,
   "metadata": {},
   "outputs": [],
   "source": []
  }
 ],
 "metadata": {
  "kernelspec": {
   "display_name": "base",
   "language": "python",
   "name": "python3"
  },
  "language_info": {
   "codemirror_mode": {
    "name": "ipython",
    "version": 3
   },
   "file_extension": ".py",
   "mimetype": "text/x-python",
   "name": "python",
   "nbconvert_exporter": "python",
   "pygments_lexer": "ipython3",
   "version": "3.11.3"
  }
 },
 "nbformat": 4,
 "nbformat_minor": 2
}
